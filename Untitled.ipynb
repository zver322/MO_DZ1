{
 "cells": [
  {
   "cell_type": "markdown",
   "id": "f13d838e",
   "metadata": {},
   "source": [
    "### Работу выполнил Казаков Лев БМП201"
   ]
  },
  {
   "cell_type": "code",
   "execution_count": 3,
   "id": "f628daae",
   "metadata": {},
   "outputs": [],
   "source": [
    "import pandas as pd\n",
    "import numpy as np\n",
    "import math"
   ]
  },
  {
   "cell_type": "code",
   "execution_count": 4,
   "id": "dbd964ba",
   "metadata": {},
   "outputs": [],
   "source": [
    "df_CNTL = pd.read_csv(\"CNTL.csv\")\n",
    "df_MGNZ = pd.read_csv(\"MGNZ.csv\")\n",
    "df_MTSS = pd.read_csv(\"MTSS.csv\")"
   ]
  },
  {
   "cell_type": "code",
   "execution_count": 5,
   "id": "28d2b71e",
   "metadata": {},
   "outputs": [],
   "source": [
    "data_CNTL = pd.DataFrame(df_CNTL)\n",
    "data_MGNZ = pd.DataFrame(df_MGNZ)\n",
    "data_MTSS = pd.DataFrame(df_MTSS)"
   ]
  },
  {
   "cell_type": "code",
   "execution_count": 6,
   "id": "77ec6f9f",
   "metadata": {},
   "outputs": [],
   "source": [
    "data_CNTL['Цена'] = data_CNTL['Цена'].str.replace(',', '.')\n",
    "data_MGNZ['Цена'] = data_MGNZ['Цена'].str.replace(',', '.')\n",
    "data_MTSS['Цена'] = data_MTSS['Цена'].str.replace(',', '.')"
   ]
  },
  {
   "cell_type": "code",
   "execution_count": 7,
   "id": "e1e29a58",
   "metadata": {},
   "outputs": [],
   "source": [
    "data_CNTL = data_CNTL[:201]\n",
    "data_MGNZ = data_MGNZ[:201]\n",
    "data_MTSS = data_MTSS[:201]"
   ]
  },
  {
   "cell_type": "code",
   "execution_count": 8,
   "id": "f67406fb",
   "metadata": {},
   "outputs": [],
   "source": [
    "prices_CNTL = []\n",
    "for price in data_CNTL['Цена']:\n",
    "    prices_CNTL.append(price)\n",
    "\n",
    "prices_MGNZ = []\n",
    "for price in data_MGNZ['Цена']:\n",
    "    prices_MGNZ.append(price)\n",
    "    \n",
    "prices_MTSS = []\n",
    "for price in data_MTSS['Цена']:\n",
    "    prices_MTSS.append(price)"
   ]
  },
  {
   "cell_type": "code",
   "execution_count": 9,
   "id": "fff3c466",
   "metadata": {},
   "outputs": [
    {
     "name": "stdout",
     "output_type": "stream",
     "text": [
      "Prices CNTL: [22.1, 22.1, 22.6, 21.75, 23.3]\n",
      "Prices MGNZ: [4460.0, 4310.0, 4300.0, 4300.0, 4400.0]\n",
      "Prices MTSS: [210.0, 211.5, 210.25, 212.2, 213.0]\n"
     ]
    }
   ],
   "source": [
    "# Преобразование данных\n",
    "for i in range(len(prices_CNTL)):\n",
    "    prices_CNTL[i] = float(prices_CNTL[i])\n",
    "\n",
    "for i in range(len(prices_MGNZ)):\n",
    "    price = prices_MGNZ[i]\n",
    "    price = price[:-2]\n",
    "    price = price.replace('.', '')\n",
    "    prices_MGNZ[i] = float(price)\n",
    "\n",
    "for i in range(len(prices_MTSS)):\n",
    "    prices_MTSS[i] = float(prices_MTSS[i])\n",
    "\n",
    "print(f'Prices CNTL: {prices_CNTL[:5]}')\n",
    "print(f'Prices MGNZ: {prices_MGNZ[:5]}')\n",
    "print(f'Prices MTSS: {prices_MTSS[:5]}')"
   ]
  },
  {
   "cell_type": "code",
   "execution_count": 10,
   "id": "18db0e85",
   "metadata": {},
   "outputs": [
    {
     "name": "stdout",
     "output_type": "stream",
     "text": [
      "200 200 200\n",
      "Netto prices NTCL: [0.0, 0.02262443438914019, -0.03761061946902666, 0.07126436781609202, 0.025751072961373245]\n",
      "Netto prices MGNZ: [-0.03363228699551568, -0.002320185614849146, 0.0, 0.023255813953488413, 0.00454545454545463]\n",
      "Nwtto prices MTSS: [0.0071428571428571175, -0.005910165484633523, 0.009274673008323298, 0.0037700282752122227, -0.005868544600938996]\n"
     ]
    }
   ],
   "source": [
    "# Составляем массив из нетто-доходности\n",
    "netto_CNTL = [0] * 200 \n",
    "netto_MGNZ = [0] * 200\n",
    "netto_MTSS = [0] * 200\n",
    "\n",
    "for i in range(1, 201):\n",
    "    netto_CNTL[i - 1] = prices_CNTL[i] / prices_CNTL[i - 1] - 1\n",
    "    netto_MGNZ[i - 1] = prices_MGNZ[i] / prices_MGNZ[i - 1] - 1\n",
    "    netto_MTSS[i - 1] = prices_MTSS[i] / prices_MTSS[i - 1] - 1\n",
    "\n",
    "print(len(netto_CNTL), len(netto_MGNZ), len(netto_MTSS))\n",
    "print(f'Netto prices NTCL: {netto_CNTL[:5]}')\n",
    "print(f'Netto prices MGNZ: {netto_MGNZ[:5]}')\n",
    "print(f'Nwtto prices MTSS: {netto_MTSS[:5]}')"
   ]
  },
  {
   "cell_type": "code",
   "execution_count": 11,
   "id": "fdaeb3cf",
   "metadata": {},
   "outputs": [
    {
     "name": "stdout",
     "output_type": "stream",
     "text": [
      "CNTL mean: -0.0014618195583413001\n",
      "CNTL dispersion: 0.001850017947095692\n",
      "\n",
      "MGNZ mean: 0.00036062836089381656\n",
      "MGNZ dispersion: 0.0019414258447923648\n",
      "\n",
      "MTSS mean: 0.0005286315289544935\n",
      "MTSS dispersion: 0.0002676635259492991\n"
     ]
    }
   ],
   "source": [
    "# Считаем среднее значение нетто-доходности\n",
    "mean_CNTL = np.mean(netto_CNTL)\n",
    "mean_MGNZ = np.mean(netto_MGNZ)\n",
    "mean_MTSS = np.mean(netto_MTSS)\n",
    "\n",
    "# Считаем дисперсию\n",
    "disp_CNTL = np.mean((netto_CNTL - mean_CNTL) ** 2)\n",
    "disp_MGNZ = np.mean((netto_MGNZ - mean_MGNZ) ** 2)\n",
    "disp_MTSS = np.mean((netto_MTSS - mean_MTSS) ** 2)\n",
    "\n",
    "print(f'CNTL mean: {mean_CNTL}\\nCNTL dispersion: {disp_CNTL}\\n')\n",
    "print(f'MGNZ mean: {mean_MGNZ}\\nMGNZ dispersion: {disp_MGNZ}\\n')\n",
    "print(f'MTSS mean: {mean_MTSS}\\nMTSS dispersion: {disp_MTSS}')"
   ]
  },
  {
   "cell_type": "code",
   "execution_count": 12,
   "id": "8e4e4958",
   "metadata": {},
   "outputs": [
    {
     "name": "stdout",
     "output_type": "stream",
     "text": [
      "[[ 1.85931452e-03  1.63756448e-04  1.83045142e-05]\n",
      " [ 1.63756448e-04  1.95118175e-03 -6.25507231e-05]\n",
      " [ 1.83045142e-05 -6.25507231e-05  2.69008569e-04]]\n"
     ]
    }
   ],
   "source": [
    "# Считаем ковариацию\n",
    "X = np.array([netto_CNTL, netto_MGNZ, netto_MTSS])\n",
    "covariation = np.cov(X)\n",
    "print(covariation)"
   ]
  },
  {
   "cell_type": "markdown",
   "id": "e6a9967c",
   "metadata": {},
   "source": [
    "### Составим задачу минимизации дисперсии портфеля\n",
    "\\\n",
    "D($\\sum_{i=1}^{3} x_{i} r_{i}$) = D($x_{1} r_{1}$ + $x_{2} r_{2}$ + $x_{3} r_{3}$) = $\\sum_{i=1}^{3} x_{i}^{2} D(r_{i})$ + 2$x_{1} x_{2}$ cov($r_{1}$, $r_{2}$) + 2 $x_{2} x_{3}$ cov($r_{2}$, $r_{3}$) + 2 $x_{1} x_{3}$ cov($r_{1}$, $r_{3}$)\n",
    "\n",
    "#### Составим систему \n",
    "\n",
    "\\begin{equation*}\n",
    "    \\begin{cases}\n",
    "      f0(x_{1}, x_{2}, x_{3}) = D_{11}x_{1}^{2} + D_{22}x_{2}^{2} + D_{33}x_{3}^{2} + 2D_{12}x_{1}x_{2} +  2D_{23}x_{2}x_{3} + 2D_{13}x_{1}x_{3} \\rightarrow min \\\\\n",
    "      f1(x_{1}, x_{2}, x_{3}) = \\mu_{1}x_{1} + \\mu_{2}x_{2} + \\mu_{3}x_{3} = \\mu* \\\\\n",
    "      f2(x_{1}, x_{2}, x_{3}) = x_{1} + x_{2} + x_{3} = 1 \\\\\n",
    "      -0.0014618195583413001 < \\mu* < 0.0005286315289544935 \\\\\n",
    "      x_{1} \\geqslant 0 \\\\\n",
    "      x_{2} \\geqslant 0 \\\\\n",
    "      x_{3} \\geqslant 0\n",
    "    \\end{cases}\n",
    "\\end{equation*}"
   ]
  },
  {
   "cell_type": "markdown",
   "id": "b1376583",
   "metadata": {},
   "source": [
    "### Решение системы\n",
    "Возьмем $\\mu$* = 0.0001\n",
    "\n",
    "Составим функцию Лагранжа.\n",
    "\n",
    "$$L(x_{1}, x_{2}, x_{3}) = \\lambda_{0} f_{0}(x_{1}, x_{2}, x_{3}) + \\lambda_{1} (f_{1}(x_{1}, x_{2}, x_{3}) - 0.0001) + \\lambda_{2} (f_{2}(x_{1}, x_{2}, x_{3}) - 1)$$\n",
    "\n",
    "Нет условий дополняющей нежесткости, тк нет неравенств.\n",
    "\n",
    "Составим систему.\n",
    "\n",
    "\\begin{equation*}\n",
    "    \\begin{cases}\n",
    "      \\sigma_{x1} L(x_{1}, x_{2}, x_{3}) = 0 \\\\\n",
    "      \\sigma_{x2} L(x_{1}, x_{2}, x_{3}) = 0 \\\\\n",
    "      \\sigma_{x3} L(x_{1}, x_{2}, x_{3}) = 0 \\\\\n",
    "      f1(x_{1}, x_{2}, x_{3}) - 0.0001 = 0 \\\\\n",
    "      f2(x_{1}, x_{2}, x_{3}) - 1 = 0 \\\\\n",
    "      x_{1} \\geqslant 0 \\\\\n",
    "      x_{2} \\geqslant 0 \\\\\n",
    "      x_{3} \\geqslant 0\n",
    "    \\end{cases}\n",
    "\\end{equation*}"
   ]
  },
  {
   "cell_type": "code",
   "execution_count": 13,
   "id": "8cf5d266",
   "metadata": {},
   "outputs": [],
   "source": [
    "from sympy import *\n",
    "\n",
    "# Вводим переменные\n",
    "x1 = Symbol('x1')\n",
    "x2 = Symbol('x2')\n",
    "x3 = Symbol('x3')\n",
    "lambda1 = Symbol('l1')\n",
    "lambda2 = Symbol('l2')\n",
    "\n",
    "# Обозначим ковариацию\n",
    "D11 = covariation[0][0]\n",
    "D22 = covariation[1][1]\n",
    "D33 = covariation[2][2]\n",
    "D12 = covariation[0][1]\n",
    "D13 = covariation[1][2]\n",
    "D23 = covariation[1][2]\n",
    "\n",
    "# Обозначим среднее\n",
    "m1 = mean_CNTL\n",
    "m2 = mean_MGNZ\n",
    "m3 = mean_MTSS\n",
    "\n",
    "# Запишем уравнения\n",
    "f0 = D11 * x1**2 + D22 * x2**2 + D33 * x3**2 + 2*D12*x1*x2 + 2*D13*x1*x3 + 2*D23*x3*x2\n",
    "f1 = m1 * x1 + m2 * x2 + m3 * x3\n",
    "f2 = x1 + x2 + x3"
   ]
  },
  {
   "cell_type": "markdown",
   "id": "b1d6eb64",
   "metadata": {},
   "source": [
    "#### Начнем решение уравнения\n",
    "Пусть у нас $\\lambda_{0}$ = 0"
   ]
  },
  {
   "cell_type": "code",
   "execution_count": 16,
   "id": "cc5304b0",
   "metadata": {},
   "outputs": [
    {
     "data": {
      "text/latex": [
       "$\\displaystyle \\left\\{\\left( 0.0921854426057827 x_{3} + 0.1430100460721, \\  0.8569899539279 - 1.09218544260578 x_{3}, \\  x_{3}, \\  0, \\  0\\right)\\right\\}$"
      ],
      "text/plain": [
       "{(0.0921854426057827*x3 + 0.1430100460721, 0.8569899539279 - 1.09218544260578*x3, x3, 0, 0)}"
      ]
     },
     "execution_count": 16,
     "metadata": {},
     "output_type": "execute_result"
    }
   ],
   "source": [
    "lagrange_function_0 = lambda1 * (f1 - 0.0001) + lambda2 * (f2 - 1)\n",
    "\n",
    "nonlinsolve([\n",
    "    lagrange_function_0.diff(x1),\n",
    "    lagrange_function_0.diff(x2),\n",
    "    lagrange_function_0.diff(x3),\n",
    "    f1 - 0.0001,\n",
    "    f2 - 1,\n",
    "    x1 >= 0,\n",
    "    x2 >= 0,\n",
    "    x3 >= 0\n",
    "], [x1, x2, x3, lambda1, lambda2])"
   ]
  },
  {
   "cell_type": "markdown",
   "id": "fd61f958",
   "metadata": {},
   "source": [
    "Так как вектор $\\lambda$ = ($\\lambda_{0}$, $\\lambda_{1}$, $\\lambda_{2}$) получился нулевой\n",
    "=> $\\lambda_{0} \\ne 0$ \n",
    "\n",
    "Пусть у нас $\\lambda_{0} = 1$"
   ]
  },
  {
   "cell_type": "code",
   "execution_count": 17,
   "id": "b6104b14",
   "metadata": {},
   "outputs": [
    {
     "data": {
      "text/latex": [
       "$\\displaystyle \\left\\{\\left( 0.206989752859658, \\  0.0989775996955809, \\  0.694032647444761, \\  0.191004722814612, \\  -0.000436095618742379\\right)\\right\\}$"
      ],
      "text/plain": [
       "{(0.206989752859658, 0.0989775996955809, 0.694032647444761, 0.191004722814612, -0.000436095618742379)}"
      ]
     },
     "execution_count": 17,
     "metadata": {},
     "output_type": "execute_result"
    }
   ],
   "source": [
    "lagrange_function_1 = f0 + lambda1 * (f1 - 0.0001) + lambda2 * (f2 - 1)\n",
    "\n",
    "nonlinsolve([\n",
    "    lagrange_function_1.diff(x1),\n",
    "    lagrange_function_1.diff(x2),\n",
    "    lagrange_function_1.diff(x3),\n",
    "    f1 - 0.0001,\n",
    "    f2 - 1\n",
    "], [x1, x2, x3, lambda1, lambda2])"
   ]
  },
  {
   "cell_type": "markdown",
   "id": "9906d161",
   "metadata": {},
   "source": [
    "### Ответ\n",
    "\n",
    "Вектор $x = (x_{1}, x_{2}, x_{3})$ удовлетворяет условию $(x_{1} \\geqslant 0, x_{2} \\geqslant 0, x_{3} \\geqslant 0)$ => что по теореме Куна-Таккера полученный вектор х является решением системы.\n",
    "\n",
    "$x = (0.206989752859658, 0.0989775996955808, 0.694032647444761)$"
   ]
  },
  {
   "cell_type": "code",
   "execution_count": null,
   "id": "c0071180",
   "metadata": {},
   "outputs": [],
   "source": []
  }
 ],
 "metadata": {
  "kernelspec": {
   "display_name": "Python 3 (ipykernel)",
   "language": "python",
   "name": "python3"
  },
  "language_info": {
   "codemirror_mode": {
    "name": "ipython",
    "version": 3
   },
   "file_extension": ".py",
   "mimetype": "text/x-python",
   "name": "python",
   "nbconvert_exporter": "python",
   "pygments_lexer": "ipython3",
   "version": "3.9.13"
  }
 },
 "nbformat": 4,
 "nbformat_minor": 5
}
